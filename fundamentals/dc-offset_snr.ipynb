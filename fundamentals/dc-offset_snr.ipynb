{
 "cells": [
  {
   "cell_type": "markdown",
   "metadata": {},
   "source": [
    "# DC offset and Signal-to-Noise Ratio (SNR) estimation"
   ]
  },
  {
   "cell_type": "code",
   "execution_count": 1,
   "metadata": {},
   "outputs": [],
   "source": [
    "import sys\n",
    "sys.path.append('../')\n",
    "\n",
    "import torch\n",
    "import csv\n",
    "\n",
    "from pathlib import Path"
   ]
  },
  {
   "cell_type": "code",
   "execution_count": 2,
   "metadata": {},
   "outputs": [],
   "source": [
    "DATA_DIR = Path('../data/raw/')\n",
    "MODELS_DIR = Path('../models/')\n",
    "RESULTS_DIR = Path('../data/features/')\n",
    "PLOTS_DIR = Path('../docs/plots/')"
   ]
  },
  {
   "cell_type": "markdown",
   "metadata": {},
   "source": [
    "## DC offset\n",
    "\n",
    "\\begin{equation}\n",
    "\\text{DC Offset} = \\frac{1}{N} \\sum_{i=1}^{N} x_i\n",
    "\\end{equation}"
   ]
  },
  {
   "cell_type": "code",
   "execution_count": 3,
   "metadata": {},
   "outputs": [],
   "source": [
    "def compute_dc_offset(signal):\n",
    "    \"\"\"\n",
    "    Compute the DC offset of an audio signal.\n",
    "    \"\"\"\n",
    "    return torch.mean(signal)"
   ]
  },
  {
   "cell_type": "markdown",
   "metadata": {},
   "source": [
    "## Signal-to-Noise Ratio\n",
    "\n",
    "\\begin{equation}\n",
    "\\text{res} = \\text{dry} - \\text{wet}\n",
    "\\end{equation}\n",
    "\n",
    "\\begin{equation}\n",
    "\\text{SNR (dB)} = 10 \\cdot \\log_{10}\\left(\\frac{\\text{wet}^2}{\\text{res}^2 + \\text{eps}}\\right)\n",
    "\\end{equation}\n",
    "\n",
    "where $\\text{wet}$ is the wet signal, $\\text{res}$ is the residual signal, and $\\text{eps}$ is a small number to avoid division by zero."
   ]
  },
  {
   "cell_type": "code",
   "execution_count": 4,
   "metadata": {},
   "outputs": [],
   "source": [
    "def compute_snr(dry, wet, eps=1e-8):\n",
    "    \"\"\"\n",
    "    Compute the Signal-to-Noise Ratio (SNR) using PyTorch.\n",
    "    Values are in dB.\n",
    "    \"\"\"\n",
    "    # reduce potential DC offset\n",
    "    dry = dry - dry.mean()\n",
    "    wet = wet - wet.mean()\n",
    "\n",
    "    # compute SNR\n",
    "    res = dry - wet\n",
    "    snr = 10 * torch.log10(\n",
    "        (wet ** 2).sum() / ((res ** 2).sum() + eps)\n",
    "    )\n",
    "    return snr.item()"
   ]
  }
 ],
 "metadata": {
  "kernelspec": {
   "display_name": "Python 3",
   "language": "python",
   "name": "python3"
  },
  "language_info": {
   "codemirror_mode": {
    "name": "ipython",
    "version": 3
   },
   "file_extension": ".py",
   "mimetype": "text/x-python",
   "name": "python",
   "nbconvert_exporter": "python",
   "pygments_lexer": "ipython3",
   "version": "3.10.13"
  },
  "orig_nbformat": 4
 },
 "nbformat": 4,
 "nbformat_minor": 2
}
