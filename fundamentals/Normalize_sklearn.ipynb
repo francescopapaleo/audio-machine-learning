{
 "cells": [
  {
   "cell_type": "markdown",
   "metadata": {},
   "source": [
    "# Normalize Data with sklearn\n",
    "\n",
    "The formula for Normalization is given below:\n",
    "\n",
    "$$\n",
    "x_{norm} = {x - x_{min} \\over x_{max} - x_{min}}\n",
    "$$\n",
    "\n",
    "We subtract the minimum value from each entry and then divide the result by the range. Where range is the difference between the maximum value and the minimum value."
   ]
  },
  {
   "cell_type": "code",
   "execution_count": 5,
   "metadata": {},
   "outputs": [],
   "source": [
    "from sklearn import preprocessing\n",
    "import numpy as np\n",
    "import matplotlib.pyplot as plt"
   ]
  },
  {
   "cell_type": "code",
   "execution_count": null,
   "metadata": {},
   "outputs": [],
   "source": [
    "# initialize the input array\n",
    "x_array = np.array([0, 0.9,2.3,3,3.9])\n",
    "\n",
    "# call method to normalize from 0 to 1\n",
    "norm_x = preprocessing.normalize([x_array])\n",
    "\n",
    "#print output\n",
    "print(norm_x)"
   ]
  }
 ],
 "metadata": {
  "kernelspec": {
   "display_name": "Python 3.10.8 ('env')",
   "language": "python",
   "name": "python3"
  },
  "language_info": {
   "codemirror_mode": {
    "name": "ipython",
    "version": 3
   },
   "file_extension": ".py",
   "mimetype": "text/x-python",
   "name": "python",
   "nbconvert_exporter": "python",
   "pygments_lexer": "ipython3",
   "version": "3.10.10"
  },
  "orig_nbformat": 4,
  "vscode": {
   "interpreter": {
    "hash": "0df36191979ba19509723095d5e7d15cf57fe2bbdd336b8b8a21c72d238bd632"
   }
  }
 },
 "nbformat": 4,
 "nbformat_minor": 2
}
