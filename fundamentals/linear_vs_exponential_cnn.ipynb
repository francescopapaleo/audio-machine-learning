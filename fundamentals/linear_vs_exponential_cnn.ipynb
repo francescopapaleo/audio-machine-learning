{
 "cells": [
  {
   "cell_type": "code",
   "execution_count": 1,
   "metadata": {},
   "outputs": [],
   "source": [
    "import torch\n",
    "import torch.nn as nn\n",
    "from torchinfo import summary"
   ]
  },
  {
   "cell_type": "code",
   "execution_count": 2,
   "metadata": {},
   "outputs": [],
   "source": [
    "class LinearDilationCNN(nn.Module):\n",
    "    def __init__(self, num_layers):\n",
    "        super(LinearDilationCNN, self).__init__()\n",
    "        self.layers = nn.ModuleList()\n",
    "        for i in range(num_layers):\n",
    "            dilation = i + 1\n",
    "            self.layers.append(nn.Conv1d(in_channels=1, out_channels=1, kernel_size=3, dilation=dilation))\n",
    "\n",
    "    def forward(self, x):\n",
    "        for layer in self.layers:\n",
    "            x = layer(x)\n",
    "        return x\n",
    "\n",
    "    def calc_receptive_field(self):\n",
    "        receptive_field = 1\n",
    "        for layer in self.layers:\n",
    "            dilation = layer.dilation[0]\n",
    "            kernel_size = layer.kernel_size[0]\n",
    "            receptive_field += (kernel_size - 1) * dilation\n",
    "        return receptive_field\n"
   ]
  },
  {
   "cell_type": "code",
   "execution_count": 3,
   "metadata": {},
   "outputs": [],
   "source": [
    "class ExponentialDilationCNN(nn.Module):\n",
    "    def __init__(self, num_layers):\n",
    "        super(ExponentialDilationCNN, self).__init__()\n",
    "        self.layers = nn.ModuleList()\n",
    "        for i in range(num_layers):\n",
    "            dilation = 2 ** i\n",
    "            self.layers.append(nn.Conv1d(in_channels=1, out_channels=1, kernel_size=3, dilation=dilation))\n",
    "\n",
    "    def forward(self, x):\n",
    "        for layer in self.layers:\n",
    "            x = layer(x)\n",
    "        return x\n",
    "\n",
    "    def calc_receptive_field(self):\n",
    "        receptive_field = 1\n",
    "        for layer in self.layers:\n",
    "            dilation = layer.dilation[0]\n",
    "            kernel_size = layer.kernel_size[0]\n",
    "            receptive_field += (kernel_size - 1) * dilation\n",
    "        return receptive_field\n"
   ]
  },
  {
   "cell_type": "code",
   "execution_count": 4,
   "metadata": {},
   "outputs": [],
   "source": [
    "# Define a dummy input to print the model summary\n",
    "dummy_input = torch.randn(1, 1, 512)"
   ]
  },
  {
   "cell_type": "markdown",
   "metadata": {},
   "source": [
    "## CNN with Linear Dilations"
   ]
  },
  {
   "cell_type": "code",
   "execution_count": 5,
   "metadata": {},
   "outputs": [
    {
     "name": "stdout",
     "output_type": "stream",
     "text": [
      "==========================================================================================\n",
      "Layer (type:depth-idx)                   Output Shape              Param #\n",
      "==========================================================================================\n",
      "LinearDilationCNN                        [1, 1, 492]               --\n",
      "├─ModuleList: 1-1                        --                        --\n",
      "│    └─Conv1d: 2-1                       [1, 1, 510]               4\n",
      "│    └─Conv1d: 2-2                       [1, 1, 506]               4\n",
      "│    └─Conv1d: 2-3                       [1, 1, 500]               4\n",
      "│    └─Conv1d: 2-4                       [1, 1, 492]               4\n",
      "==========================================================================================\n",
      "Total params: 16\n",
      "Trainable params: 16\n",
      "Non-trainable params: 0\n",
      "Total mult-adds (M): 0.01\n",
      "==========================================================================================\n",
      "Input size (MB): 0.00\n",
      "Forward/backward pass size (MB): 0.02\n",
      "Params size (MB): 0.00\n",
      "Estimated Total Size (MB): 0.02\n",
      "==========================================================================================\n"
     ]
    }
   ],
   "source": [
    "model_lin = LinearDilationCNN(num_layers=4)\n",
    "\n",
    "summary_lin = summary(model_lin, input_size=dummy_input.shape, depth=4, verbose=1)"
   ]
  },
  {
   "cell_type": "code",
   "execution_count": 6,
   "metadata": {},
   "outputs": [
    {
     "name": "stdout",
     "output_type": "stream",
     "text": [
      "Linear Model Receptive Field: 21\n",
      "\n",
      "\n",
      "Linear Model Layer 1 - Dilation: 1, Receptive Field: 1\n",
      "\n",
      "Linear Model Layer 2 - Dilation: 2, Receptive Field: 2\n",
      "\n",
      "Linear Model Layer 3 - Dilation: 3, Receptive Field: 3\n",
      "\n",
      "Linear Model Layer 4 - Dilation: 4, Receptive Field: 4\n",
      "\n"
     ]
    }
   ],
   "source": [
    "lin_receptive_field = model_lin.calc_receptive_field()\n",
    "print(f\"Linear Model Receptive Field: {lin_receptive_field}\\n\\n\")\n",
    "\n",
    "for i in range(4):\n",
    "    print(f\"Linear Model Layer {i + 1} - Dilation: {i + 1}, Receptive Field: {model_lin.layers[i].dilation[0]}\\n\")"
   ]
  },
  {
   "cell_type": "code",
   "execution_count": 7,
   "metadata": {},
   "outputs": [
    {
     "name": "stdout",
     "output_type": "stream",
     "text": [
      "==========================================================================================\n",
      "Layer (type:depth-idx)                   Output Shape              Param #\n",
      "==========================================================================================\n",
      "ExponentialDilationCNN                   [1, 1, 482]               --\n",
      "├─ModuleList: 1-1                        --                        --\n",
      "│    └─Conv1d: 2-1                       [1, 1, 510]               4\n",
      "│    └─Conv1d: 2-2                       [1, 1, 506]               4\n",
      "│    └─Conv1d: 2-3                       [1, 1, 498]               4\n",
      "│    └─Conv1d: 2-4                       [1, 1, 482]               4\n",
      "==========================================================================================\n",
      "Total params: 16\n",
      "Trainable params: 16\n",
      "Non-trainable params: 0\n",
      "Total mult-adds (M): 0.01\n",
      "==========================================================================================\n",
      "Input size (MB): 0.00\n",
      "Forward/backward pass size (MB): 0.02\n",
      "Params size (MB): 0.00\n",
      "Estimated Total Size (MB): 0.02\n",
      "==========================================================================================\n"
     ]
    }
   ],
   "source": [
    "model_exp = ExponentialDilationCNN(num_layers=4)\n",
    "\n",
    "summary_exp = summary(model_exp, input_size=dummy_input.shape, depth=4, verbose=1)"
   ]
  },
  {
   "cell_type": "code",
   "execution_count": 8,
   "metadata": {},
   "outputs": [
    {
     "name": "stdout",
     "output_type": "stream",
     "text": [
      "Exponential Model Receptive Field: 31\n",
      "\n",
      "\n",
      "Exponential Model Layer 1 - Dilation: 1, Receptive Field: 1\n",
      "\n",
      "Exponential Model Layer 2 - Dilation: 2, Receptive Field: 2\n",
      "\n",
      "Exponential Model Layer 3 - Dilation: 4, Receptive Field: 4\n",
      "\n",
      "Exponential Model Layer 4 - Dilation: 8, Receptive Field: 8\n",
      "\n"
     ]
    }
   ],
   "source": [
    "exp_receptive_field = model_exp.calc_receptive_field()\n",
    "print(f\"Exponential Model Receptive Field: {exp_receptive_field}\\n\\n\")\n",
    "\n",
    "for i in range(4):\n",
    "    print(f\"Exponential Model Layer {i + 1} - Dilation: {2**i}, Receptive Field: {model_exp.layers[i].dilation[0]}\\n\")"
   ]
  }
 ],
 "metadata": {
  "kernelspec": {
   "display_name": "devenv",
   "language": "python",
   "name": "python3"
  },
  "language_info": {
   "codemirror_mode": {
    "name": "ipython",
    "version": 3
   },
   "file_extension": ".py",
   "mimetype": "text/x-python",
   "name": "python",
   "nbconvert_exporter": "python",
   "pygments_lexer": "ipython3",
   "version": "3.10.13"
  }
 },
 "nbformat": 4,
 "nbformat_minor": 2
}
